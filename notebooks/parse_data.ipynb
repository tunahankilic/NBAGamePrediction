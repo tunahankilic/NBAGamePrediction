{
 "cells": [
  {
   "cell_type": "code",
   "execution_count": 71,
   "metadata": {},
   "outputs": [],
   "source": [
    "import os \n",
    "import pandas as pd\n",
    "from bs4 import BeautifulSoup"
   ]
  },
  {
   "cell_type": "code",
   "execution_count": 74,
   "metadata": {},
   "outputs": [],
   "source": [
    "os.chdir(\"/Users/tunahankilic/Desktop/NBAGamePrediction\")"
   ]
  },
  {
   "cell_type": "code",
   "execution_count": 75,
   "metadata": {},
   "outputs": [
    {
     "data": {
      "text/plain": [
       "'/Users/tunahankilic/Desktop/NBAGamePrediction'"
      ]
     },
     "execution_count": 75,
     "metadata": {},
     "output_type": "execute_result"
    }
   ],
   "source": [
    "os.getcwd()"
   ]
  },
  {
   "cell_type": "code",
   "execution_count": 76,
   "metadata": {},
   "outputs": [],
   "source": [
    "BOXSCORES_DIR = \"data/boxscores\""
   ]
  },
  {
   "cell_type": "code",
   "execution_count": 77,
   "metadata": {},
   "outputs": [],
   "source": [
    "box_scores = os.listdir(BOXSCORES_DIR)"
   ]
  },
  {
   "cell_type": "code",
   "execution_count": 82,
   "metadata": {},
   "outputs": [],
   "source": [
    "box_scores_filtered = [file for file in box_scores if any(year in file[:8] for year in ['2018', '2019', '2020', '2021', '2022', '2023'])]"
   ]
  },
  {
   "cell_type": "code",
   "execution_count": 83,
   "metadata": {},
   "outputs": [],
   "source": [
    "box_score_path = [os.path.join(BOXSCORES_DIR, f) for f in box_scores_filtered if f.endswith(\".html\")]"
   ]
  },
  {
   "cell_type": "code",
   "execution_count": 85,
   "metadata": {},
   "outputs": [],
   "source": [
    "def parse_html(box_score):\n",
    "    with open(box_score) as f:\n",
    "        html = f.read()\n",
    "\n",
    "    soup = BeautifulSoup(html)\n",
    "    [s.decompose() for s in soup.select(\"tr.over_header\")]\n",
    "    [s.decompose() for s in soup.select(\"tr.thead\")]\n",
    "    return soup"
   ]
  },
  {
   "cell_type": "code",
   "execution_count": 86,
   "metadata": {},
   "outputs": [],
   "source": [
    "def read_line_score(soup):\n",
    "    line_score = pd.read_html(str(soup), attrs={\"id\":\"line_score\"})[0]\n",
    "    cols = list(line_score.columns)\n",
    "    cols[0] = 'team'\n",
    "    cols[-1] = 'total'\n",
    "    line_score.columns = cols\n",
    "    line_score = line_score[['team', 'total']]\n",
    "    return line_score"
   ]
  },
  {
   "cell_type": "code",
   "execution_count": 87,
   "metadata": {},
   "outputs": [],
   "source": [
    "def read_four_factors(soup):\n",
    "    four_factors = pd.read_html(str(soup), attrs={\"id\":\"four_factors\"})[0]\n",
    "    cols = list(four_factors.columns)\n",
    "    cols[0] = 'team'\n",
    "    four_factors.columns = cols\n",
    "    four_factors = four_factors[['team', 'Pace', 'FT/FGA']]\n",
    "    return four_factors"
   ]
  },
  {
   "cell_type": "code",
   "execution_count": 88,
   "metadata": {},
   "outputs": [],
   "source": [
    "def read_stats(soup, team, stat):\n",
    "    df = pd.read_html(str(soup), attrs={\"id\": f\"box-{team}-game-{stat}\"}, index_col=0)[0]\n",
    "    df = df.apply(pd.to_numeric, errors='coerce')\n",
    "    return df"
   ]
  },
  {
   "cell_type": "code",
   "execution_count": 89,
   "metadata": {},
   "outputs": [],
   "source": [
    "def read_season_info(soup):\n",
    "    nav = soup.select(\"#bottom_nav_container\")[0]\n",
    "    hrefs = [a[\"href\"] for a in nav.find_all(\"a\")]\n",
    "    season = os.path.basename(hrefs[1]).split(\"_\")[0]\n",
    "    return season"
   ]
  },
  {
   "cell_type": "code",
   "execution_count": 90,
   "metadata": {},
   "outputs": [
    {
     "name": "stdout",
     "output_type": "stream",
     "text": [
      "100 / 6349\n",
      "200 / 6349\n",
      "300 / 6349\n",
      "400 / 6349\n",
      "500 / 6349\n",
      "600 / 6349\n",
      "700 / 6349\n",
      "800 / 6349\n",
      "900 / 6349\n",
      "1000 / 6349\n",
      "1100 / 6349\n",
      "1200 / 6349\n",
      "1300 / 6349\n",
      "1400 / 6349\n",
      "1500 / 6349\n",
      "1600 / 6349\n",
      "1700 / 6349\n",
      "1800 / 6349\n",
      "1900 / 6349\n",
      "2000 / 6349\n",
      "2100 / 6349\n",
      "2200 / 6349\n",
      "2300 / 6349\n",
      "2400 / 6349\n",
      "2500 / 6349\n",
      "2600 / 6349\n",
      "2700 / 6349\n",
      "2800 / 6349\n",
      "2900 / 6349\n",
      "3000 / 6349\n",
      "3100 / 6349\n",
      "3200 / 6349\n",
      "3300 / 6349\n",
      "3400 / 6349\n",
      "3500 / 6349\n",
      "3600 / 6349\n",
      "3700 / 6349\n",
      "3800 / 6349\n",
      "3900 / 6349\n",
      "4000 / 6349\n",
      "4100 / 6349\n",
      "4200 / 6349\n",
      "4300 / 6349\n",
      "4400 / 6349\n",
      "4500 / 6349\n",
      "4600 / 6349\n",
      "4700 / 6349\n",
      "4800 / 6349\n",
      "4900 / 6349\n",
      "5000 / 6349\n",
      "5100 / 6349\n",
      "5200 / 6349\n",
      "5300 / 6349\n",
      "5400 / 6349\n",
      "5500 / 6349\n",
      "5600 / 6349\n",
      "5700 / 6349\n",
      "5800 / 6349\n",
      "5900 / 6349\n",
      "6000 / 6349\n",
      "6100 / 6349\n",
      "6200 / 6349\n",
      "6300 / 6349\n"
     ]
    }
   ],
   "source": [
    "base_cols = None\n",
    "games = []\n",
    "\n",
    "#box_score = box_score_path[0]\n",
    "for box_score in box_score_path:\n",
    "    soup = parse_html(box_score)\n",
    "    line_score = read_line_score(soup)\n",
    "    four_factors = read_four_factors(soup)\n",
    "    teams = list(line_score['team'])\n",
    "\n",
    "    summaries = []\n",
    "    for team in teams:\n",
    "        basic = read_stats(soup, team, 'basic')\n",
    "        advanced = read_stats(soup, team, 'advanced')\n",
    "\n",
    "        totals = pd.concat([basic.iloc[-1, :], advanced.iloc[-1, :]])\n",
    "        team_four_factor = four_factors.loc[four_factors['team'] == team]\n",
    "        summary = pd.concat([totals, team_four_factor.iloc[-1,1:]])\n",
    "        summary.index = summary.index.str.lower()\n",
    "\n",
    "        if base_cols is None:\n",
    "            base_cols = list(summary.index.drop_duplicates(keep='first'))\n",
    "            base_cols = [b for b in base_cols if \"bpm\" not in b]\n",
    "\n",
    "        summary = summary[base_cols]\n",
    "\n",
    "        summaries.append(summary)\n",
    "\n",
    "    df_summary = pd.concat(summaries, axis=1).T\n",
    "\n",
    "    game = pd.concat([df_summary, line_score], axis =1)\n",
    "    game[\"home\"] = [0, 1]\n",
    "\n",
    "    game_opp = game.iloc[::-1].reset_index()\n",
    "    game_opp.columns += \"_opp\"\n",
    "\n",
    "    full_game = pd.concat([game, game_opp], axis=1)\n",
    "    full_game[\"season\"] = read_season_info(soup)\n",
    "    full_game[\"date\"] = os.path.basename(box_score)[:8]\n",
    "    full_game[\"date\"] = pd.to_datetime(full_game[\"date\"], format=\"%Y%m%d\")\n",
    "    full_game[\"won\"] = full_game[\"total\"] > full_game[\"total_opp\"]\n",
    "    games.append(full_game)\n",
    "\n",
    "    if len(games) % 100 == 0:\n",
    "        print(f\"{len(games)} / {len(box_score_path)}\")\n",
    "\n",
    "df_games = pd.concat(games, ignore_index=True)"
   ]
  },
  {
   "cell_type": "code",
   "execution_count": 101,
   "metadata": {},
   "outputs": [],
   "source": [
    "df_games = df_games.loc[:,~df_games.columns.duplicated()]"
   ]
  },
  {
   "cell_type": "code",
   "execution_count": 104,
   "metadata": {},
   "outputs": [],
   "source": [
    "df_games.to_parquet('./data/nba_games.parquet', engine='pyarrow')"
   ]
  }
 ],
 "metadata": {
  "kernelspec": {
   "display_name": "Python 3.11.4 ('NBAGamePrediction-N2JfDsTU')",
   "language": "python",
   "name": "python3"
  },
  "language_info": {
   "codemirror_mode": {
    "name": "ipython",
    "version": 3
   },
   "file_extension": ".py",
   "mimetype": "text/x-python",
   "name": "python",
   "nbconvert_exporter": "python",
   "pygments_lexer": "ipython3",
   "version": "3.11.4"
  },
  "orig_nbformat": 4,
  "vscode": {
   "interpreter": {
    "hash": "0f7a4617d41574ffd6beedec7195318bd6d803125dd255aceeca4a162991d8c1"
   }
  }
 },
 "nbformat": 4,
 "nbformat_minor": 2
}
